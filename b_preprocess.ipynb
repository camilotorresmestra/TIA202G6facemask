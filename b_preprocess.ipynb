{
 "cells": [
  {
   "cell_type": "code",
   "execution_count": 56,
   "metadata": {},
   "outputs": [],
   "source": [
    "SMALL_DATA_MODE = True\n",
    "if SMALL_DATA_MODE:\n",
    "    DATA_FILE = \"data/smalldata/\"\n",
    "    datasize = 852\n",
    "else:\n",
    "    DATA_FILE = \"data/\"\n",
    "    datasize = 852 #cambiar con el tamaño total de los datos"
   ]
  },
  {
   "cell_type": "code",
   "execution_count": 31,
   "metadata": {},
   "outputs": [],
   "source": [
    "# PARAMETER\n",
    "#-------------\n",
    "# check if IS_MASTER exists, this variable will only exist if it's being called by MASTER notebook.\n",
    "# if it does not exist, set it to False\n",
    "try: IS_MASTER\n",
    "except: IS_MASTER = False\n",
    "# The code below will only run if it's NOT being called from MASTER notebook\n",
    "\n",
    "if IS_MASTER == False:\n",
    "    DATA_DIR = 'data/temp/' # \n",
    "    RAW_FILE = f'data/raw/smalldata/' # use \"small data\" here\n",
    "    PROCESSED_FILE = f'{DATA_DIR}processed.pkl' # always use pickle for fast I/O!\n",
    "    OTHER_PREPROCESS_PARAMETER = ... # e.g. batch size, sliding window size, etc"
   ]
  },
  {
   "cell_type": "code",
   "execution_count": 10,
   "metadata": {},
   "outputs": [
    {
     "ename": "NameError",
     "evalue": "name 'python_object' is not defined",
     "output_type": "error",
     "traceback": [
      "\u001b[1;31m---------------------------------------------------------------------------\u001b[0m",
      "\u001b[1;31mNameError\u001b[0m                                 Traceback (most recent call last)",
      "\u001b[1;32m<ipython-input-10-87fac74bc7cd>\u001b[0m in \u001b[0;36m<module>\u001b[1;34m\u001b[0m\n\u001b[0;32m      1\u001b[0m \u001b[1;32mimport\u001b[0m \u001b[0mpickle\u001b[0m\u001b[1;33m\u001b[0m\u001b[1;33m\u001b[0m\u001b[0m\n\u001b[0;32m      2\u001b[0m \u001b[1;32mwith\u001b[0m \u001b[0mopen\u001b[0m\u001b[1;33m(\u001b[0m\u001b[0mPROCESSED_FILE\u001b[0m\u001b[1;33m,\u001b[0m \u001b[1;34m'wb'\u001b[0m\u001b[1;33m)\u001b[0m \u001b[1;32mas\u001b[0m \u001b[0mf\u001b[0m\u001b[1;33m:\u001b[0m\u001b[1;33m\u001b[0m\u001b[1;33m\u001b[0m\u001b[0m\n\u001b[1;32m----> 3\u001b[1;33m     \u001b[0mpickle\u001b[0m\u001b[1;33m.\u001b[0m\u001b[0mdump\u001b[0m\u001b[1;33m(\u001b[0m\u001b[0mpython_object\u001b[0m\u001b[1;33m,\u001b[0m \u001b[0mf\u001b[0m\u001b[1;33m)\u001b[0m\u001b[1;33m\u001b[0m\u001b[1;33m\u001b[0m\u001b[0m\n\u001b[0m",
      "\u001b[1;31mNameError\u001b[0m: name 'python_object' is not defined"
     ]
    }
   ],
   "source": [
    "import pickle\n",
    "with open(PROCESSED_FILE, 'wb') as f:\n",
    "    pickle.dump(python_object, f)"
   ]
  },
  {
   "cell_type": "code",
   "execution_count": 32,
   "metadata": {},
   "outputs": [
    {
     "name": "stdout",
     "output_type": "stream",
     "text": [
      "data/raw/smalldata/\n"
     ]
    }
   ],
   "source": [
    "print(RAW_FILE)"
   ]
  },
  {
   "cell_type": "code",
   "execution_count": 33,
   "metadata": {},
   "outputs": [],
   "source": [
    "from xml.dom import minidom\n",
    "import cv2 as cv2"
   ]
  },
  {
   "cell_type": "code",
   "execution_count": 34,
   "metadata": {},
   "outputs": [],
   "source": [
    "def getText(nodelist):\n",
    "    rc = []\n",
    "    for node in nodelist:\n",
    "        if node.nodeType == node.TEXT_NODE:\n",
    "            rc.append(node.data)\n",
    "    return ''.join(rc)"
   ]
  },
  {
   "cell_type": "markdown",
   "metadata": {},
   "source": [
    "# Cropping the faces\n",
    "We begin by cropping the faces from the training data. This would be useful to train the HOG detector."
   ]
  },
  {
   "cell_type": "code",
   "execution_count": 14,
   "metadata": {},
   "outputs": [],
   "source": [
    "\n",
    "counter=1\n",
    "extension='.png'\n",
    "\n",
    "for x in range(datasize):#refactorizar para poder iterar sobre un número indefinido de imágenes usando try + exceptions\n",
    "    xmldoc = minidom.parse(DATA_FILE + 'annotations/maksssksksss'+str(x)+'.xml')\n",
    "    img=cv2.imread(DATA_FILE + 'images/maksssksksss'+str(x)+'.png',0)\n",
    "    objList = xmldoc.getElementsByTagName('object')\n",
    "    for obj in objList:\n",
    "        nameList=obj.getElementsByTagName('name')\n",
    "        if(getText(nameList[0].childNodes)=='without_mask'):\n",
    "            root= 'cropped/without_mask/img'\n",
    "        elif (getText(nameList[0].childNodes)=='with_mask'):\n",
    "            root= 'cropped/with_mask/img'\n",
    "        else:\n",
    "            root='cropped/wrong/img'\n",
    "        xminList=obj.getElementsByTagName('xmin')\n",
    "        yminList=obj.getElementsByTagName('ymin')\n",
    "        xmaxList=obj.getElementsByTagName('xmax')\n",
    "        ymaxList=obj.getElementsByTagName('ymax')\n",
    "        crop_img = img[int(getText(yminList[0].childNodes)):int(getText(ymaxList[0].childNodes)), int(getText(xminList[0].childNodes)):int(getText(xmaxList[0].childNodes))]\n",
    "        #crop_img = cv2.adaptiveThreshold(crop_img,255,cv2.ADAPTIVE_THRESH_MEAN_C,cv2.THRESH_BINARY,11,2)\n",
    "        cv2.imwrite(DATA_DIR + root +str(counter)+extension, crop_img)\n",
    "        print('Processing: ' + str(counter) + 'of ' + str(datasize) + ';')\n",
    "        counter=counter+1\n",
    "print('Processing complete!')"
   ]
  },
  {
   "cell_type": "code",
   "execution_count": 60,
   "metadata": {},
   "outputs": [
    {
     "name": "stdout",
     "output_type": "stream",
     "text": [
      "img10.png\n",
      "img100.png\n",
      "img101.png\n",
      "img102.png\n",
      "img105.png\n",
      "img107.png\n",
      "img108.png\n",
      "img109.png\n",
      "img11.png\n",
      "img111.png\n",
      "img112.png\n",
      "img113.png\n",
      "img114.png\n",
      "img115.png\n",
      "img116.png\n",
      "img117.png\n",
      "img118.png\n",
      "img119.png\n",
      "img121.png\n",
      "img122.png\n",
      "img123.png\n",
      "img125.png\n",
      "img126.png\n",
      "img127.png\n",
      "img128.png\n",
      "img129.png\n",
      "img13.png\n",
      "img130.png\n",
      "img131.png\n",
      "img132.png\n",
      "img133.png\n",
      "img134.png\n",
      "img135.png\n",
      "img136.png\n",
      "img137.png\n",
      "img139.png\n",
      "img14.png\n",
      "img140.png\n",
      "img141.png\n",
      "img142.png\n",
      "img143.png\n",
      "img145.png\n",
      "img146.png\n",
      "img147.png\n",
      "img148.png\n",
      "img149.png\n",
      "img15.png\n",
      "img150.png\n",
      "img151.png\n",
      "img152.png\n",
      "img153.png\n",
      "img154.png\n",
      "img155.png\n",
      "img156.png\n",
      "img157.png\n",
      "img158.png\n",
      "img159.png\n",
      "img160.png\n",
      "img161.png\n",
      "img162.png\n",
      "img163.png\n",
      "img164.png\n",
      "img167.png\n",
      "img169.png\n",
      "img17.png\n",
      "img170.png\n",
      "img171.png\n",
      "img172.png\n",
      "img18.png\n",
      "img19.png\n",
      "img2.png\n",
      "img20.png\n",
      "img21.png\n",
      "img22.png\n",
      "img23.png\n",
      "img24.png\n",
      "img25.png\n",
      "img26.png\n",
      "img27.png\n",
      "img30.png\n",
      "img31.png\n",
      "img32.png\n",
      "img33.png\n",
      "img34.png\n",
      "img36.png\n",
      "img39.png\n",
      "img4.png\n",
      "img41.png\n",
      "img42.png\n",
      "img43.png\n",
      "img44.png\n",
      "img45.png\n",
      "img46.png\n",
      "img47.png\n",
      "img48.png\n",
      "img49.png\n",
      "img5.png\n",
      "img50.png\n",
      "img51.png\n",
      "img52.png\n",
      "img53.png\n",
      "img54.png\n",
      "img55.png\n",
      "img56.png\n",
      "img57.png\n",
      "img58.png\n",
      "img59.png\n",
      "img6.png\n",
      "img60.png\n",
      "img61.png\n",
      "img62.png\n",
      "img63.png\n",
      "img64.png\n",
      "img65.png\n",
      "img67.png\n",
      "img68.png\n",
      "img69.png\n",
      "img7.png\n",
      "img70.png\n",
      "img72.png\n",
      "img73.png\n",
      "img74.png\n",
      "img76.png\n",
      "img77.png\n",
      "img78.png\n",
      "img79.png\n",
      "img8.png\n",
      "img80.png\n",
      "img81.png\n",
      "img83.png\n",
      "img85.png\n",
      "img86.png\n",
      "img88.png\n",
      "img89.png\n",
      "img9.png\n",
      "img90.png\n",
      "img91.png\n",
      "img92.png\n",
      "img94.png\n",
      "img95.png\n",
      "img97.png\n",
      "img98.png\n",
      "img99.png\n"
     ]
    },
    {
     "data": {
      "image/png": "[encoded data removed]",
      "text/plain": [
       "<Figure size 432x288 with 1 Axes>"
      ]
     },
     "metadata": {
      "needs_background": "light"
     },
     "output_type": "display_data"
    }
   ],
   "source": [
    "import os\n",
    "directory = DATA_FILE + 'temp/cropped/Si/'\n",
    "\n",
    "for filename in os.listdir(directory):\n",
    "    if filename.endswith(\".png\"):\n",
    "          # extract the make of the car\n",
    "        make = directory.split(\"/\")[-2]\n",
    "        print(filename)\n",
    "        img=cv2.imread(directory+filename, 0)\n",
    "        # load the image, convert it to grayscale, and detect edges\n",
    "        #try:\n",
    "            #gray = cv2.cvtColor(image, cv2.COLOR_BGR2GRAY)\n",
    "        \n",
    "        edges = cv2.Canny(img,100,200)\n",
    "        resized = cv2.resize(edges, (200, 100))\n",
    "        path = DATA_FILE + 'temp/resized/'+ make + '/'\n",
    "        extension = '.png'\n",
    "        if not cv2.imwrite(path+ filename + extension, resized): \n",
    "            raise Exception(\"Could not write image\")\n",
    "        plt.imshow(resized,cmap = 'gray')\n"
   ]
  },
  {
   "cell_type": "code",
   "execution_count": 37,
   "metadata": {},
   "outputs": [
    {
     "name": "stdout",
     "output_type": "stream",
     "text": [
      "Collecting imutils\n",
      "  Downloading imutils-0.5.3.tar.gz (17 kB)\n",
      "Building wheels for collected packages: imutils\n",
      "  Building wheel for imutils (setup.py): started\n",
      "  Building wheel for imutils (setup.py): finished with status 'done'\n",
      "  Created wheel for imutils: filename=imutils-0.5.3-py3-none-any.whl size=25856 sha256=56004d7fd8ebb6a43b9dc30103777a6dced057d09f11c5562e3d485d9b89e4ae\n",
      "  Stored in directory: c:\\users\\jucat\\appdata\\local\\pip\\cache\\wheels\\c8\\d6\\0f\\b0c3892b70c59f0d202f8619a449f7d14cb839a0af2f943869\n",
      "Successfully built imutils\n",
      "Installing collected packages: imutils\n",
      "Successfully installed imutils-0.5.3\n"
     ]
    }
   ],
   "source": [
    "winSize = (64,64)\n",
    "blockSize = (16,16)\n",
    "blockStride = (8,8)\n",
    "cellSize = (8,8)\n",
    "nbins = 9\n",
    "derivAperture = 1\n",
    "winSigma = 4.\n",
    "histogramNormType = 0\n",
    "L2HysThreshold = 2.0000000000000001e-01\n",
    "gammaCorrection = 0\n",
    "nlevels = 64\n",
    "hog = cv2.HOGDescriptor(winSize,blockSize,blockStride,cellSize,nbins,derivAperture,winSigma,\n",
    "                        histogramNormType,L2HysThreshold,gammaCorrection,nlevels)\n",
    "#compute(img[, winStride[, padding[, locations]]]) -> descriptors\n",
    "winStride = (8,8)\n",
    "padding = (8,8)\n",
    "locations = ((10,20),)\n",
    "hist = hog.compute(image,winStride,padding,locations)"
   ]
  },
  {
   "cell_type": "code",
   "execution_count": 29,
   "metadata": {},
   "outputs": [
    {
     "name": "stdout",
     "output_type": "stream",
     "text": [
      "[[34 34 34 ... 28 28 34]\n",
      " [34 34 34 ... 28 21 28]\n",
      " [39 34 28 ... 28 28 28]\n",
      " ...\n",
      " [72 70 68 ... 50 50 50]\n",
      " [78 70 82 ... 53 53 59]\n",
      " [78 74 70 ... 53 61 64]]\n"
     ]
    },
    {
     "data": {
      "text/plain": [
       "<matplotlib.image.AxesImage at 0x1d473e2f400>"
      ]
     },
     "execution_count": 29,
     "metadata": {},
     "output_type": "execute_result"
    },
    {
     "data": {
      "image/png": "[encoded data removed]",
      "text/plain": [
       "<Figure size 432x288 with 1 Axes>"
      ]
     },
     "metadata": {
      "needs_background": "light"
     },
     "output_type": "display_data"
    }
   ],
   "source": [
    "import matplotlib.pyplot as plt\n",
    "x=1\n",
    "img=cv2.imread('data/temp/cropped/Si/img2.png ', 0)\n",
    "print(img)\n",
    "edges = cv2.Canny(img,100,200)\n",
    "\n",
    "resized = cv2.resize(edges, (200, 100))\n",
    "plt.imshow(resized,cmap = 'gray')"
   ]
  }
 ],
 "metadata": {
  "celltoolbar": "Tags",
  "kernelspec": {
   "display_name": "Python 3",
   "language": "python",
   "name": "python3"
  },
  "language_info": {
   "codemirror_mode": {
    "name": "ipython",
    "version": 3
   },
   "file_extension": ".py",
   "mimetype": "text/x-python",
   "name": "python",
   "nbconvert_exporter": "python",
   "pygments_lexer": "ipython3",
   "version": "3.8.3"
  }
 },
 "nbformat": 4,
 "nbformat_minor": 4
}
